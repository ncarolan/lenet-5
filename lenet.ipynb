{
 "cells": [
  {
   "cell_type": "markdown",
   "metadata": {},
   "source": [
    "# LeNet\n",
    "\n",
    "This notebook trains the LeNet-5 neural network on the MNIST database.\n",
    "\n",
    "Implementations in both PyTorch and JAX are provided under the respective subsections."
   ]
  },
  {
   "cell_type": "markdown",
   "id": "85812574",
   "metadata": {},
   "source": [
    "#### Imports"
   ]
  },
  {
   "cell_type": "code",
   "execution_count": 76,
   "id": "1e3e87c3",
   "metadata": {},
   "outputs": [],
   "source": [
    "import numpy as np\n",
    "import random\n",
    "import time\n",
    "\n",
    "SEED = 12\n",
    "\n",
    "random.seed(SEED)\n",
    "np.random.seed(SEED)"
   ]
  },
  {
   "cell_type": "code",
   "execution_count": null,
   "id": "a8bb3bab",
   "metadata": {},
   "outputs": [],
   "source": [
    "# TEMP: Reload /data after updating\n",
    "import data  # your module\n",
    "import importlib\n",
    "\n",
    "importlib.reload(data)"
   ]
  },
  {
   "cell_type": "markdown",
   "id": "c0960a89",
   "metadata": {},
   "source": [
    "### PyTorch"
   ]
  },
  {
   "cell_type": "code",
   "execution_count": 83,
   "metadata": {},
   "outputs": [],
   "source": [
    "import torch\n",
    "import torch.nn as nn\n",
    "import torchvision\n",
    "from torch.utils.data import DataLoader\n",
    "from torchvision import datasets, transforms\n",
    "from models.torch_lenet import TorchLeNet\n",
    "\n",
    "torch.manual_seed(SEED)\n",
    "torch.cuda.manual_seed(SEED)\n",
    "torch.backends.cudnn.deterministic = True\n",
    "\n",
    "TORCH_PATH = './data/lenet5.pth' # Change filename for different models"
   ]
  },
  {
   "cell_type": "markdown",
   "id": "f11b4c97",
   "metadata": {},
   "source": [
    "#### Data"
   ]
  },
  {
   "cell_type": "code",
   "execution_count": 84,
   "id": "dd82b39f",
   "metadata": {},
   "outputs": [],
   "source": [
    "BATCH_SIZE = 64\n",
    "\n",
    "train_dataset, test_dataset, val_dataset = data.get_MNIST()\n",
    "\n",
    "train_loader = DataLoader(train_dataset, batch_size=64, shuffle=True)\n",
    "test_loader = DataLoader(test_dataset, batch_size=1000, shuffle=False)\n",
    "val_loader = DataLoader(val_dataset, batch_size=1000, shuffle=False)"
   ]
  },
  {
   "cell_type": "markdown",
   "id": "ccabc4ca",
   "metadata": {},
   "source": [
    "#### Model"
   ]
  },
  {
   "cell_type": "code",
   "execution_count": 85,
   "id": "ee89c4da",
   "metadata": {},
   "outputs": [
    {
     "name": "stdout",
     "output_type": "stream",
     "text": [
      "Parameters:  61706\n"
     ]
    },
    {
     "data": {
      "text/plain": [
       "TorchLeNet(\n",
       "  (conv1): Conv2d(1, 6, kernel_size=(5, 5), stride=(1, 1), padding=(2, 2))\n",
       "  (pool1): MaxPool2d(kernel_size=2, stride=2, padding=0, dilation=1, ceil_mode=False)\n",
       "  (conv2): Conv2d(6, 16, kernel_size=(5, 5), stride=(1, 1))\n",
       "  (pool2): MaxPool2d(kernel_size=2, stride=2, padding=0, dilation=1, ceil_mode=False)\n",
       "  (fc1): Linear(in_features=400, out_features=120, bias=True)\n",
       "  (fc2): Linear(in_features=120, out_features=84, bias=True)\n",
       "  (fc3): Linear(in_features=84, out_features=10, bias=True)\n",
       ")"
      ]
     },
     "execution_count": 85,
     "metadata": {},
     "output_type": "execute_result"
    }
   ],
   "source": [
    "device = torch.device(\"cuda\" if torch.cuda.is_available() else \"cpu\")\n",
    "\n",
    "lenet5 = TorchLeNet().to(device) # TODO: Add params for activations, reproduce original init\n",
    "lenet5.param_count()\n",
    "lenet5.eval()"
   ]
  },
  {
   "cell_type": "markdown",
   "id": "e6a97274",
   "metadata": {},
   "source": [
    "#### Training"
   ]
  },
  {
   "cell_type": "code",
   "execution_count": 87,
   "metadata": {},
   "outputs": [
    {
     "name": "stdout",
     "output_type": "stream",
     "text": [
      "Epoch 0 | 25.87s | Train Loss: 0.0402, Val Loss: 0.0494\n",
      "Epoch 1 | 26.65s | Train Loss: 0.0352, Val Loss: 0.0526\n",
      "Epoch 2 | 26.02s | Train Loss: 0.0328, Val Loss: 0.0455\n",
      "Epoch 3 | 25.80s | Train Loss: 0.0317, Val Loss: 0.0533\n",
      "Epoch 4 | 25.96s | Train Loss: 0.0275, Val Loss: 0.0440\n",
      "Epoch 5 | 26.23s | Train Loss: 0.0262, Val Loss: 0.0466\n",
      "Epoch 6 | 26.67s | Train Loss: 0.0231, Val Loss: 0.0481\n",
      "Epoch 7 | 26.04s | Train Loss: 0.0224, Val Loss: 0.0521\n",
      "Epoch 8 | 26.34s | Train Loss: 0.0199, Val Loss: 0.0437\n",
      "Epoch 9 | 27.30s | Train Loss: 0.0187, Val Loss: 0.0447\n",
      "Total training time: 262.88s\n",
      "Saved model at ./data/lenet5.pth.\n"
     ]
    }
   ],
   "source": [
    "# Hyperparams -> TODO: try to reproduce the original paper in this section\n",
    "LEARNING_RATE = 1e-3\n",
    "EPOCHS = 10\n",
    "\n",
    "train_time = 0\n",
    "\n",
    "criterion = torch.nn.CrossEntropyLoss()\n",
    "optimizer = torch.optim.AdamW(lenet5.parameters(), lr=LEARNING_RATE)\n",
    "\n",
    "for epoch in range(EPOCHS):\n",
    "    lenet5.train()\n",
    "    start_time = time.time()\n",
    "    epoch_loss = 0\n",
    "    val_loss = 0\n",
    "\n",
    "    for x,y in train_loader:\n",
    "        x,y = x.to(device), y.to(device)\n",
    "\n",
    "        optimizer.zero_grad()\n",
    "        y_pred = lenet5(x)\n",
    "        loss = criterion(y_pred, y)\n",
    "        loss.backward()\n",
    "        optimizer.step()\n",
    "\n",
    "        epoch_loss += loss\n",
    "\n",
    "    end_time = time.time()\n",
    "    epoch_duration = end_time - start_time\n",
    "    train_time += epoch_duration\n",
    "\n",
    "    # Validation Loss\n",
    "    lenet5.eval()\n",
    "    with torch.no_grad():\n",
    "        for x,y in val_loader:\n",
    "            x,y = x.to(device), y.to(device)\n",
    "            y_pred = lenet5(x)\n",
    "            loss = criterion(y_pred, y)\n",
    "            val_loss += loss\n",
    "\n",
    "    print(f'Epoch {epoch} | {epoch_duration:.2f}s | Train Loss: {epoch_loss / len(train_loader):.4f}, Val Loss: {val_loss / len(val_loader):.4f}')\n",
    "\n",
    "print(f'Total training time: {train_time:.2f}s')\n",
    "\n",
    "torch.save(lenet5.state_dict(), TORCH_PATH)\n",
    "print(f'Saved model at {TORCH_PATH}.')"
   ]
  },
  {
   "cell_type": "markdown",
   "id": "73134bb5",
   "metadata": {},
   "source": [
    "#### Evaluation"
   ]
  },
  {
   "cell_type": "code",
   "execution_count": 88,
   "id": "7b1e75e7",
   "metadata": {},
   "outputs": [
    {
     "data": {
      "text/plain": [
       "TorchLeNet(\n",
       "  (conv1): Conv2d(1, 6, kernel_size=(5, 5), stride=(1, 1), padding=(2, 2))\n",
       "  (pool1): MaxPool2d(kernel_size=2, stride=2, padding=0, dilation=1, ceil_mode=False)\n",
       "  (conv2): Conv2d(6, 16, kernel_size=(5, 5), stride=(1, 1))\n",
       "  (pool2): MaxPool2d(kernel_size=2, stride=2, padding=0, dilation=1, ceil_mode=False)\n",
       "  (fc1): Linear(in_features=400, out_features=120, bias=True)\n",
       "  (fc2): Linear(in_features=120, out_features=84, bias=True)\n",
       "  (fc3): Linear(in_features=84, out_features=10, bias=True)\n",
       ")"
      ]
     },
     "execution_count": 88,
     "metadata": {},
     "output_type": "execute_result"
    }
   ],
   "source": [
    "# Load train model\n",
    "lenet5 = TorchLeNet().to(device) # TODO: Add params for activations, reproduce original init\n",
    "lenet5.load_state_dict(torch.load(TORCH_PATH))\n",
    "lenet5.eval()"
   ]
  },
  {
   "cell_type": "code",
   "execution_count": 89,
   "id": "5c2292b9",
   "metadata": {},
   "outputs": [
    {
     "name": "stdout",
     "output_type": "stream",
     "text": [
      "Test Set Accuracy: 97.27%\n"
     ]
    }
   ],
   "source": [
    "test_x = test_dataset.data.unsqueeze(1).float()\n",
    "test_y = test_dataset.targets\n",
    "\n",
    "lenet5.eval()\n",
    "with torch.no_grad():\n",
    "    test_x, test_y = test_x.to(device), test_y.to(device)\n",
    "    logits = lenet5(test_x)\n",
    "    test_preds = logits.argmax(axis=1)\n",
    "    accuracy = (test_preds == test_y).sum() / len(test_y)\n",
    "\n",
    "print(f'Test Set Accuracy: {100 * accuracy:.2f}%')"
   ]
  },
  {
   "cell_type": "markdown",
   "id": "97370b86",
   "metadata": {},
   "source": [
    "### JAX"
   ]
  },
  {
   "cell_type": "markdown",
   "id": "96d9f7d2",
   "metadata": {},
   "source": []
  }
 ],
 "metadata": {
  "kernelspec": {
   "display_name": "base",
   "language": "python",
   "name": "python3"
  },
  "language_info": {
   "codemirror_mode": {
    "name": "ipython",
    "version": 3
   },
   "file_extension": ".py",
   "mimetype": "text/x-python",
   "name": "python",
   "nbconvert_exporter": "python",
   "pygments_lexer": "ipython3",
   "version": "3.11.8"
  }
 },
 "nbformat": 4,
 "nbformat_minor": 5
}
