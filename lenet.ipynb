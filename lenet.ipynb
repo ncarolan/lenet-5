{
 "cells": [
  {
   "cell_type": "markdown",
   "id": "3f06aced",
   "metadata": {},
   "source": [
    "# LeNet\n",
    "\n",
    "This notebook trains the LeNet-5 neural network on the MNIST database."
   ]
  },
  {
   "cell_type": "markdown",
   "id": "85812574",
   "metadata": {},
   "source": [
    "#### Imports"
   ]
  },
  {
   "cell_type": "code",
   "execution_count": 155,
   "id": "1e3e87c3",
   "metadata": {},
   "outputs": [],
   "source": [
    "import importlib\n",
    "import matplotlib.pyplot as plt\n",
    "import numpy as np\n",
    "import random\n",
    "import re\n",
    "import time\n",
    "from typing import Any, Dict\n",
    "import torch\n",
    "import torch.nn as nn\n",
    "import torchvision\n",
    "from torch.utils.data import DataLoader\n",
    "from torchvision import datasets, transforms\n",
    "\n",
    "from models.torch_lenet import TorchLeNet\n",
    "import src.data.data as data\n",
    "\n",
    "importlib.reload(data)\n",
    "importlib.reload(src)\n",
    "\n",
    "SEED = 12\n",
    "\n",
    "random.seed(SEED)\n",
    "np.random.seed(SEED)\n",
    "torch.manual_seed(SEED)\n",
    "torch.cuda.manual_seed(SEED)\n",
    "torch.backends.cudnn.deterministic = True"
   ]
  },
  {
   "cell_type": "markdown",
   "id": "c0960a89",
   "metadata": {},
   "source": [
    "### Training"
   ]
  },
  {
   "cell_type": "code",
   "execution_count": 152,
   "id": "45420576",
   "metadata": {},
   "outputs": [
    {
     "name": "stdout",
     "output_type": "stream",
     "text": [
      "src/models/ckpts/lenet_torch_0.1_0_0_False_kaiming_adamw_relu_0.0003_12.pth\n"
     ]
    }
   ],
   "source": [
    "_framework = \"torch\"  #@param [\"torch\", \"jax\"]\n",
    "_val_split = 0.1  #@param\n",
    "_rotation_degrees = 0  #@param\n",
    "_crop_padding = 0  #@param\n",
    "_duplicate_with_augment = False  # Adds --duplicate_with_augment flag\n",
    "_init = \"kaiming\"  #@param [\"orthogonal\", \"kaiming\", \"xavier\"]\n",
    "_optimizer = \"adamw\"  #@param [\"sgd\", \"adam\", \"adamw\"]\n",
    "_activation = \"relu\"  #@param [\"relu\", \"tanh\", \"sigmoid\"]\n",
    "_lr = 3e-4  #@param\n",
    "_seed = SEED  #@param\n",
    "\n",
    "\n",
    "model_path = f'src/models/ckpts/lenet_{_framework}_{_val_split}_{_rotation_degrees}_{_crop_padding}_{_duplicate_with_augment}_{_init}_{_optimizer}_{_activation}_{_lr}_{_seed}.pth'\n",
    "print(model_path)"
   ]
  },
  {
   "cell_type": "code",
   "execution_count": 150,
   "id": "e1d19969",
   "metadata": {},
   "outputs": [
    {
     "name": "stdout",
     "output_type": "stream",
     "text": [
      "---------------------------------------------\n",
      "Framework:                  torch\n",
      "Validation Split:           0.1\n",
      "Rotation Degrees:           0\n",
      "Crop Padding:               0\n",
      "Duplicate with Augment:     False\n",
      "Init method:                kaiming\n",
      "Optimizer:                  adamw\n",
      "Activation:                 relu\n",
      "Learning Rate:              0.0003\n",
      "Random Seed:                12\n",
      "---------------------------------------------\n",
      "Train: Dataset MNIST\n",
      "    Number of datapoints: 54000\n",
      "\n",
      "Val: Dataset MNIST\n",
      "    Number of datapoints: 6000\n",
      "Test: Dataset MNIST\n",
      "    Number of datapoints: 10000\n",
      "    Root location: data\n",
      "    Split: Test\n",
      "    StandardTransform\n",
      "Transform: Compose(\n",
      "               ToTensor()\n",
      "               Normalize(mean=[tensor(0.1307)], std=[tensor(0.3081)])\n",
      "           )\n",
      "\n",
      "---------------------------------------------\n",
      "TorchLeNet(\n",
      "  (conv1): Conv2d(1, 6, kernel_size=(5, 5), stride=(1, 1), padding=(2, 2))\n",
      "  (pool1): MaxPool2d(kernel_size=2, stride=2, padding=0, dilation=1, ceil_mode=False)\n",
      "  (conv2): Conv2d(6, 16, kernel_size=(5, 5), stride=(1, 1))\n",
      "  (pool2): MaxPool2d(kernel_size=2, stride=2, padding=0, dilation=1, ceil_mode=False)\n",
      "  (fc1): Linear(in_features=400, out_features=120, bias=True)\n",
      "  (fc2): Linear(in_features=120, out_features=84, bias=True)\n",
      "  (fc3): Linear(in_features=84, out_features=10, bias=True)\n",
      "  (act_fn): ReLU()\n",
      ")\n",
      "Parameters:  61706\n",
      "---------------------------------------------\n",
      "Epoch 1 | 26.95s | Train Loss: 0.0151, Val Loss: 0.0004, Val Accuracy: 0.89\n",
      "Epoch 2 | 26.84s | Train Loss: 0.0045, Val Loss: 0.0002, Val Accuracy: 0.93\n",
      "Epoch 3 | 27.30s | Train Loss: 0.0030, Val Loss: 0.0002, Val Accuracy: 0.95\n",
      "Epoch 4 | 26.91s | Train Loss: 0.0022, Val Loss: 0.0001, Val Accuracy: 0.96\n",
      "Epoch 5 | 26.93s | Train Loss: 0.0018, Val Loss: 0.0001, Val Accuracy: 0.97\n",
      "Epoch 6 | 27.17s | Train Loss: 0.0015, Val Loss: 0.0001, Val Accuracy: 0.97\n",
      "Epoch 7 | 26.80s | Train Loss: 0.0013, Val Loss: 0.0001, Val Accuracy: 0.97\n",
      "Epoch 8 | 27.20s | Train Loss: 0.0012, Val Loss: 0.0001, Val Accuracy: 0.97\n",
      "Epoch 9 | 28.03s | Train Loss: 0.0011, Val Loss: 0.0001, Val Accuracy: 0.98\n",
      "Epoch 10 | 27.85s | Train Loss: 0.0010, Val Loss: 0.0001, Val Accuracy: 0.98\n",
      "Epoch 11 | 27.43s | Train Loss: 0.0009, Val Loss: 0.0001, Val Accuracy: 0.98\n",
      "Epoch 12 | 27.79s | Train Loss: 0.0008, Val Loss: 0.0001, Val Accuracy: 0.98\n",
      "Epoch 13 | 27.29s | Train Loss: 0.0008, Val Loss: 0.0001, Val Accuracy: 0.98\n",
      "Epoch 14 | 27.74s | Train Loss: 0.0007, Val Loss: 0.0001, Val Accuracy: 0.98\n",
      "Epoch 15 | 27.90s | Train Loss: 0.0007, Val Loss: 0.0001, Val Accuracy: 0.98\n",
      "Epoch 16 | 27.54s | Train Loss: 0.0006, Val Loss: 0.0001, Val Accuracy: 0.98\n",
      "Epoch 17 | 27.21s | Train Loss: 0.0006, Val Loss: 0.0001, Val Accuracy: 0.98\n",
      "Early stopping at epoch 17 after 2 epochs without val improvement.\n",
      "Total training time: 464.88s\n",
      "Saved model at src/models/ckpts/lenet_torch_0.1_0_0_False_kaiming_adamw_relu_0.0003_12.pth.\n"
     ]
    }
   ],
   "source": [
    "! python src/train.py --framework={_framework} \\\n",
    "    --val_split={_val_split} \\\n",
    "    --rotation_degrees={_rotation_degrees} \\\n",
    "    --crop_padding={_crop_padding} \\\n",
    "    {\"--duplicate_with_augment\" if _duplicate_with_augment else \"\"} \\\n",
    "    --init={_init} \\\n",
    "    --optimizer={_optimizer} \\\n",
    "    --activation={_activation} \\\n",
    "    --lr={_lr} \\\n",
    "    --seed={_seed}"
   ]
  },
  {
   "cell_type": "markdown",
   "id": "73134bb5",
   "metadata": {},
   "source": [
    "### Evaluation"
   ]
  },
  {
   "cell_type": "code",
   "execution_count": 153,
   "id": "7b1e75e7",
   "metadata": {},
   "outputs": [
    {
     "name": "stdout",
     "output_type": "stream",
     "text": [
      "Loading model at: src/models/ckpts/lenet_torch_0.1_0_0_False_kaiming_adamw_relu_0.0003_12.pth\n"
     ]
    },
    {
     "data": {
      "text/plain": [
       "<All keys matched successfully>"
      ]
     },
     "execution_count": 153,
     "metadata": {},
     "output_type": "execute_result"
    }
   ],
   "source": [
    "from models.torch_lenet import TorchLeNet\n",
    "\n",
    "print(f'Loading model at: {model_path}')\n",
    "\n",
    "def get_model_params(model_path: str) -> Dict[str, Any]:\n",
    "    model_params = model_path.replace(\".pth\", \"\").split(\"_\")\n",
    "    assert len(model_params) == 11\n",
    "    \n",
    "    params_dict = {}\n",
    "    params_dict[\"framework\"] = model_params[1]\n",
    "    params_dict[\"val_split\"] = float(model_params[2])\n",
    "    params_dict[\"rotation_degrees\"] = int(model_params[3])\n",
    "    params_dict[\"crop_padding\"] = int(model_params[4])\n",
    "    params_dict[\"duplicate_with_augment\"] = model_params[5]\n",
    "    params_dict[\"init\"] = model_params[6]\n",
    "    params_dict[\"optimizer\"] = model_params[7]\n",
    "    params_dict[\"activation\"] = model_params[8]\n",
    "    params_dict[\"lr\"] = float(model_params[9])\n",
    "    params_dict[\"seed\"] = int(model_params[10])\n",
    "\n",
    "    return params_dict\n",
    "    \n",
    "# Load model\n",
    "model_params = get_model_params(model_path)\n",
    "\n",
    "device = torch.device(\"cuda\" if torch.cuda.is_available() else \"cpu\")\n",
    "lenet5 = TorchLeNet(act_fn=model_params[\"activation\"], init=model_params[\"init\"]).to(device)\n",
    "lenet5.load_state_dict(torch.load(model_path))"
   ]
  },
  {
   "cell_type": "code",
   "execution_count": 156,
   "id": "5c2292b9",
   "metadata": {},
   "outputs": [
    {
     "name": "stdout",
     "output_type": "stream",
     "text": [
      "Train: Dataset MNIST\n",
      "    Number of datapoints: 54000\n",
      "\n",
      "Val: Dataset MNIST\n",
      "    Number of datapoints: 6000\n",
      "Test: Dataset MNIST\n",
      "    Number of datapoints: 10000\n",
      "    Root location: src/data\n",
      "    Split: Test\n",
      "    StandardTransform\n",
      "Transform: Compose(\n",
      "               ToTensor()\n",
      "               Normalize(mean=[tensor(0.1307)], std=[tensor(0.3081)])\n",
      "           )\n",
      "\n",
      "Test Set Accuracy: 94.52%\n"
     ]
    }
   ],
   "source": [
    "_train_dataset, test_dataset, _val_dataset = data.get_MNIST() # TODO: Add quiet fetching or test-only\n",
    "\n",
    "test_x = test_dataset.data.unsqueeze(1).float()\n",
    "test_y = test_dataset.targets\n",
    "\n",
    "lenet5.eval()\n",
    "with torch.no_grad():\n",
    "    test_x, test_y = test_x.to(device), test_y.to(device)\n",
    "    logits = lenet5(test_x)\n",
    "    test_preds = logits.argmax(axis=1)\n",
    "    accuracy = (test_preds == test_y).sum() / len(test_y)\n",
    "\n",
    "print(f'Test Set Accuracy: {100 * accuracy:.2f}%')"
   ]
  },
  {
   "cell_type": "markdown",
   "id": "dc28fd3f-0702-483c-9d06-d5e8c1e562a9",
   "metadata": {},
   "source": [
    "### Ablations"
   ]
  },
  {
   "cell_type": "code",
   "execution_count": null,
   "id": "4705234d-d948-4257-9fca-1222835fe6ad",
   "metadata": {},
   "outputs": [],
   "source": []
  },
  {
   "cell_type": "markdown",
   "id": "97370b86",
   "metadata": {},
   "source": [
    "### Interpretability"
   ]
  },
  {
   "cell_type": "markdown",
   "id": "96d9f7d2",
   "metadata": {},
   "source": []
  },
  {
   "cell_type": "markdown",
   "id": "065ea6d3-888b-4ef4-916f-2bc81fb982b8",
   "metadata": {},
   "source": [
    "#### Saliency Maps"
   ]
  },
  {
   "cell_type": "code",
   "execution_count": 157,
   "id": "9475f336-49b1-4aa7-a92c-1e474aaf478e",
   "metadata": {},
   "outputs": [],
   "source": [
    "def saliency_map(model, x, y, grad_times_input=False):\n",
    "    \"\"\"\n",
    "    Returns a saliency map (∂ score_y / ∂ x) for a given model, input, and label.\n",
    "\n",
    "    Args:\n",
    "        model (nn.Module): Classifier\n",
    "        x (tensor): CxHxW normalized image\n",
    "        y (int): Class index (target label)\n",
    "        grad_times_input (bool): If true, returns a gradient x input saliency map. (input * ∂ score_y / ∂ x)\n",
    "\n",
    "    Returns:\n",
    "        saliency (np.ndarray): Saliency map.\n",
    "    \"\"\"\n",
    "    model.eval()\n",
    "    device = torch.device(\"cuda\" if torch.cuda.is_available() else \"cpu\")\n",
    "    x = x.clone().detach().to(device)\n",
    "    if x.ndim == 3:      \n",
    "        x = x.unsqueeze(0)  # Add batch dim if needed\n",
    "    y = torch.tensor([int(y)], device=device)\n",
    "\n",
    "    x.requires_grad_(True)  # Enable input gradients\n",
    "    model.zero_grad(set_to_none=True)  # Set gradients to 0\n",
    "\n",
    "    with torch.enable_grad():\n",
    "        logits = model(x)\n",
    "        score_y = logits.gather(1, y.view(-1,1)).squeeze()\n",
    "        score_y.backward()\n",
    "\n",
    "    saliency = x.grad\n",
    "    if (grad_times_input):\n",
    "        saliency = (saliency * x.detach())\n",
    "    saliency = saliency.detach().abs().squeeze()\n",
    "    saliency = (saliency - saliency.min()) / (saliency.max() - saliency.min() + 1e-8)  # Normalize to [0,1] for visualization\n",
    "    return saliency.cpu()"
   ]
  },
  {
   "cell_type": "code",
   "execution_count": 159,
   "id": "cd41780e-22ab-4e46-b330-0e0c22ae12ed",
   "metadata": {},
   "outputs": [
    {
     "data": {
      "image/png": "[encoded data removed]",
      "text/plain": [
       "<Figure size 1000x500 with 2 Axes>"
      ]
     },
     "metadata": {},
     "output_type": "display_data"
    }
   ],
   "source": [
    "test_idx = 1  #@param\n",
    "\n",
    "x, y = test_x[test_idx], test_y[test_idx]\n",
    "\n",
    "sal = saliency_map(lenet5, x, y)\n",
    "\n",
    "fig, ax = plt.subplots(1, 2, figsize=(10, 5))\n",
    "plt.suptitle(f'Vanilla Saliency Map for MNIST Test Set Idx {test_idx}')\n",
    "ax[0].imshow(x.squeeze()); ax[0].set_title(f'Label: {y}'); ax[0].axis(\"off\");\n",
    "ax[1].imshow(sal.numpy(), cmap=\"hot\"); ax[1].set_title(f'Saliency Map'); ax[1].axis(\"off\"); plt.show()"
   ]
  },
  {
   "cell_type": "code",
   "execution_count": 109,
   "id": "fcc3cdfe-96f2-48e0-adce-0367e03a0975",
   "metadata": {},
   "outputs": [
    {
     "data": {
      "image/png": "[encoded data removed]",
      "text/plain": [
       "<Figure size 1000x500 with 2 Axes>"
      ]
     },
     "metadata": {},
     "output_type": "display_data"
    }
   ],
   "source": [
    "# Notice how the digit pixels have the lowest gradient.\n",
    "# In an attempt to highlight which parts of the writing contribute to the class, we can visualize Gradient × Input\n",
    "inp_sal = saliency_map(lenet5, x, y, grad_times_input=True)\n",
    "\n",
    "fig, ax = plt.subplots(1, 2, figsize=(10, 5))\n",
    "plt.suptitle(f'Gradient x Input Saliency Map for MNIST Test Set Idx {test_idx}')\n",
    "ax[0].imshow(x.squeeze()); ax[0].set_title(f'Label: {y}'); ax[0].axis(\"off\");\n",
    "ax[1].imshow(inp_sal.numpy(), cmap=\"hot\"); ax[1].set_title(f'Saliency Map'); ax[1].axis(\"off\"); plt.show()"
   ]
  },
  {
   "cell_type": "markdown",
   "id": "dbca96fa-468e-4a68-bcc2-bbc0a5af3907",
   "metadata": {},
   "source": [
    "#### GradCAM"
   ]
  },
  {
   "cell_type": "code",
   "execution_count": 113,
   "id": "92f07a39-9d85-42b0-8432-a588c13afd31",
   "metadata": {},
   "outputs": [],
   "source": [
    "import torch.nn.functional as F\n",
    "from typing import Optional, Union\n",
    "\n",
    "def grad_cam(\n",
    "    model: torch.nn.Module,\n",
    "    input_tensor: torch.Tensor,\n",
    "    target_layer: Union[str, torch.nn.Module],\n",
    "    target_class: Optional[int] = None,\n",
    "    normalize: bool = True,\n",
    ") -> torch.Tensor:\n",
    "    \"\"\"\n",
    "    Compute a Grad-CAM heatmap for a given model and input.\n",
    "\n",
    "    Args:\n",
    "        model: PyTorch model (produces class scores/logits).\n",
    "        input_tensor: Tensor of shape (N, C, H, W). N can be 1+ (returns one CAM per item).\n",
    "        target_layer: Layer (module) or dotted name of the layer to probe (e.g. 'layer4.2.relu').\n",
    "        target_class: Class index to explain. If None, uses model's argmax per item.\n",
    "        normalize: If True, min-max normalize CAMs to [0, 1] per item.\n",
    "\n",
    "    Returns:\n",
    "        cam: Tensor of shape (N, H, W) aligned to input spatial size.\n",
    "    \"\"\"\n",
    "    model.eval()\n",
    "\n",
    "    # Resolve target layer if passed as string\n",
    "    if isinstance(target_layer, str):\n",
    "        module = model\n",
    "        for attr in target_layer.split('.'):\n",
    "            if attr.isdigit():\n",
    "                module = module[int(attr)]  # handle Sequential/ModuleList index\n",
    "            else:\n",
    "                module = getattr(module, attr)\n",
    "        target_module = module\n",
    "    else:\n",
    "        target_module = target_layer\n",
    "\n",
    "    # Storage for activations & gradients\n",
    "    activations = []\n",
    "    gradients = []\n",
    "\n",
    "    def fwd_hook(_m, _i, o):\n",
    "        activations.append(o.detach())\n",
    "\n",
    "    def bwd_hook(_m, gi, go):\n",
    "        # go is a tuple; grab grad wrt output (same shape as activation)\n",
    "        gradients.append(go[0].detach())\n",
    "\n",
    "    # Register hooks\n",
    "    fwd_handle = target_module.register_forward_hook(fwd_hook)\n",
    "    bwd_handle = target_module.register_full_backward_hook(bwd_hook)\n",
    "\n",
    "    # Forward\n",
    "    logits = model(input_tensor)\n",
    "    if logits.ndim == 1:\n",
    "        logits = logits.unsqueeze(0)  # (N, num_classes)\n",
    "\n",
    "    # Determine target indices per item\n",
    "    if target_class is None:\n",
    "        target_idxs = logits.argmax(dim=1)\n",
    "    else:\n",
    "        target_idxs = torch.full((logits.shape[0],), int(target_class), device=logits.device, dtype=torch.long)\n",
    "\n",
    "    # Build scalar objective: sum over batch of the selected class scores\n",
    "    gather = logits.gather(1, target_idxs.view(-1, 1)).sum()\n",
    "\n",
    "    # Backward (compute grads wrt target layer)\n",
    "    model.zero_grad(set_to_none=True)\n",
    "    gather.backward(retain_graph=False)\n",
    "\n",
    "    # Clean up hooks\n",
    "    fwd_handle.remove()\n",
    "    bwd_handle.remove()\n",
    "\n",
    "    if not activations or not gradients:\n",
    "        raise RuntimeError(\"Failed to capture hooks; check target_layer is used by the forward pass.\")\n",
    "\n",
    "    A = activations[-1]           # (N, C, h, w)\n",
    "    dY_dA = gradients[-1]         # (N, C, h, w)\n",
    "\n",
    "    # Compute channel weights via global average pooling of gradients\n",
    "    weights = dY_dA.mean(dim=(2, 3), keepdim=True)      # (N, C, 1, 1)\n",
    "\n",
    "    # Weighted combination and ReLU\n",
    "    cam = (weights * A).sum(dim=1)                      # (N, h, w)\n",
    "    cam = F.relu(cam)\n",
    "\n",
    "    # Upsample to input spatial size\n",
    "    H, W = input_tensor.shape[-2:]\n",
    "    cam = cam.unsqueeze(1)\n",
    "    cam = F.interpolate(cam, size=(H, W), mode=\"bilinear\", align_corners=False).squeeze(1)\n",
    "\n",
    "    if normalize:\n",
    "        # Normalize per item to [0,1]\n",
    "        cam_min = cam.flatten(1).min(dim=1)[0].view(-1, 1, 1)\n",
    "        cam_max = cam.flatten(1).max(dim=1)[0].view(-1, 1, 1)\n",
    "        denom = (cam_max - cam_min).clamp(min=1e-12)\n",
    "        cam = (cam - cam_min) / denom\n",
    "\n",
    "    return cam.detach()"
   ]
  },
  {
   "cell_type": "code",
   "execution_count": null,
   "id": "5c703088-d74c-4ef5-b600-83e25f71dc3f",
   "metadata": {},
   "outputs": [],
   "source": [
    "grad_cam(\n",
    "    model=lenet5,\n",
    "    input_tensor=x,\n",
    "    target_layer=lenet5.pool2,\n",
    "    target_class=y,\n",
    "    normalize=True,\n",
    ")"
   ]
  },
  {
   "cell_type": "code",
   "execution_count": 112,
   "id": "38e9f0ac-8c3a-4d1c-98ce-e5003aa8fd6e",
   "metadata": {},
   "outputs": [
    {
     "name": "stdout",
     "output_type": "stream",
     "text": [
      "TorchLeNet(\n",
      "  (conv1): Conv2d(1, 6, kernel_size=(5, 5), stride=(1, 1), padding=(2, 2))\n",
      "  (pool1): MaxPool2d(kernel_size=2, stride=2, padding=0, dilation=1, ceil_mode=False)\n",
      "  (conv2): Conv2d(6, 16, kernel_size=(5, 5), stride=(1, 1))\n",
      "  (pool2): MaxPool2d(kernel_size=2, stride=2, padding=0, dilation=1, ceil_mode=False)\n",
      "  (fc1): Linear(in_features=400, out_features=120, bias=True)\n",
      "  (fc2): Linear(in_features=120, out_features=84, bias=True)\n",
      "  (fc3): Linear(in_features=84, out_features=10, bias=True)\n",
      "  (act_fn): ReLU()\n",
      ")\n"
     ]
    }
   ],
   "source": [
    "print(lenet5)"
   ]
  },
  {
   "cell_type": "markdown",
   "id": "981bfca4-f69e-4a92-b470-66287da1e997",
   "metadata": {},
   "source": [
    "#### Sparse Autoencoders (SAEs)"
   ]
  },
  {
   "cell_type": "code",
   "execution_count": null,
   "id": "d76f6d2c-2c66-488f-931b-01793f82fe08",
   "metadata": {},
   "outputs": [],
   "source": []
  },
  {
   "cell_type": "markdown",
   "id": "dbb942f6-e981-432f-a581-03039334581a",
   "metadata": {},
   "source": [
    "### Adversarial Examples"
   ]
  },
  {
   "cell_type": "code",
   "execution_count": null,
   "id": "0c4c3ad4-0bf7-422c-905b-4011721c717e",
   "metadata": {},
   "outputs": [],
   "source": []
  }
 ],
 "metadata": {
  "kernelspec": {
   "display_name": "Python 3 (ipykernel)",
   "language": "python",
   "name": "python3"
  },
  "language_info": {
   "codemirror_mode": {
    "name": "ipython",
    "version": 3
   },
   "file_extension": ".py",
   "mimetype": "text/x-python",
   "name": "python",
   "nbconvert_exporter": "python",
   "pygments_lexer": "ipython3",
   "version": "3.11.8"
  }
 },
 "nbformat": 4,
 "nbformat_minor": 5
}
