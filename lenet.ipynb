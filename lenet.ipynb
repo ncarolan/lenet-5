{
 "cells": [
  {
   "cell_type": "markdown",
   "id": "3f06aced",
   "metadata": {},
   "source": [
    "# LeNet\n",
    "\n",
    "This notebook trains the LeNet-5 neural network on the MNIST database."
   ]
  },
  {
   "cell_type": "markdown",
   "id": "85812574",
   "metadata": {},
   "source": [
    "#### Imports"
   ]
  },
  {
   "cell_type": "code",
   "execution_count": 35,
   "id": "1e3e87c3",
   "metadata": {},
   "outputs": [],
   "source": [
    "import importlib\n",
    "import numpy as np\n",
    "import random\n",
    "import re\n",
    "import time\n",
    "from typing import Any, Dict\n",
    "import torch\n",
    "import torch.nn as nn\n",
    "import torchvision\n",
    "from torch.utils.data import DataLoader\n",
    "from torchvision import datasets, transforms\n",
    "\n",
    "from models.torch_lenet import TorchLeNet\n",
    "import data\n",
    "\n",
    "importlib.reload(data)\n",
    "\n",
    "SEED = 12\n",
    "\n",
    "random.seed(SEED)\n",
    "np.random.seed(SEED)\n",
    "torch.manual_seed(SEED)\n",
    "torch.cuda.manual_seed(SEED)\n",
    "torch.backends.cudnn.deterministic = True"
   ]
  },
  {
   "cell_type": "markdown",
   "id": "c0960a89",
   "metadata": {},
   "source": [
    "### Training"
   ]
  },
  {
   "cell_type": "code",
   "execution_count": 43,
   "id": "45420576",
   "metadata": {},
   "outputs": [
    {
     "name": "stdout",
     "output_type": "stream",
     "text": [
      "models/ckpts/lenet_torch_0.1_0_0_False_kaiming_adamw_relu_0.0003_12.pth\n"
     ]
    }
   ],
   "source": [
    "_framework = \"torch\"  #@param [\"torch\", \"jax\"]\n",
    "_val_split = 0.1  #@param\n",
    "_rotation_degrees = 0  #@param\n",
    "_crop_padding = 0  #@param\n",
    "_duplicate_with_augment = False  # Add --duplicate_with_augment flag\n",
    "_init = \"kaiming\"  #@param [\"orthogonal\", \"kaiming\", \"xavier\"]\n",
    "_optimizer = \"adamw\"  #@param [\"sgd\", \"adam\", \"adamw\"]\n",
    "_activation = \"relu\"  #@param [\"relu\", \"tanh\", \"sigmoid\"]\n",
    "_lr = 3e-4  #@param\n",
    "_seed = SEED  #@param\n",
    "\n",
    "\n",
    "model_path = f'models/ckpts/lenet_{_framework}_{_val_split}_{_rotation_degrees}_{_crop_padding}_{_duplicate_with_augment}_{_init}_{_optimizer}_{_activation}_{_lr}_{_seed}.pth'\n",
    "print(model_path)"
   ]
  },
  {
   "cell_type": "code",
   "execution_count": 41,
   "id": "e1d19969",
   "metadata": {},
   "outputs": [
    {
     "name": "stdout",
     "output_type": "stream",
     "text": [
      "---------------------------------------------\n",
      "Framework:                  torch\n",
      "Validation Split:           0.1\n",
      "Rotation Degrees:           0\n",
      "Crop Padding:               0\n",
      "Duplicate with Augment:     False\n",
      "Init method:                kaiming\n",
      "Optimizer:                  adamw\n",
      "Activation:                 relu\n",
      "Learning Rate:              0.0003\n",
      "Random Seed:                12\n",
      "---------------------------------------------\n",
      "Train: Dataset MNIST\n",
      "    Number of datapoints: 54000\n",
      "\n",
      "Val: Dataset MNIST\n",
      "    Number of datapoints: 6000\n",
      "Test: Dataset MNIST\n",
      "    Number of datapoints: 10000\n",
      "    Root location: data\n",
      "    Split: Test\n",
      "    StandardTransform\n",
      "Transform: Compose(\n",
      "               ToTensor()\n",
      "               Normalize(mean=[tensor(0.1307)], std=[tensor(0.3081)])\n",
      "           )\n",
      "\n",
      "Parameters:  61706\n",
      "Epoch 1 | 25.63s | Train Loss: 0.8489, Val Loss: 0.3471\n",
      "Epoch 2 | 25.39s | Train Loss: 0.2737, Val Loss: 0.2221\n",
      "Epoch 3 | 25.10s | Train Loss: 0.1826, Val Loss: 0.1675\n",
      "Epoch 4 | 25.27s | Train Loss: 0.1348, Val Loss: 0.1292\n",
      "Epoch 5 | 25.40s | Train Loss: 0.1091, Val Loss: 0.1169\n",
      "Epoch 6 | 25.44s | Train Loss: 0.0936, Val Loss: 0.0955\n",
      "Epoch 7 | 25.28s | Train Loss: 0.0803, Val Loss: 0.0877\n",
      "Epoch 8 | 25.05s | Train Loss: 0.0718, Val Loss: 0.0837\n",
      "Epoch 9 | 25.93s | Train Loss: 0.0656, Val Loss: 0.0741\n",
      "Epoch 10 | 25.75s | Train Loss: 0.0606, Val Loss: 0.0703\n",
      "Epoch 11 | 25.70s | Train Loss: 0.0568, Val Loss: 0.0635\n",
      "Epoch 12 | 26.24s | Train Loss: 0.0525, Val Loss: 0.0599\n",
      "Epoch 13 | 25.44s | Train Loss: 0.0485, Val Loss: 0.0594\n",
      "Epoch 14 | 25.33s | Train Loss: 0.0454, Val Loss: 0.0589\n",
      "Epoch 15 | 26.00s | Train Loss: 0.0425, Val Loss: 0.0720\n",
      "Epoch 16 | 25.60s | Train Loss: 0.0405, Val Loss: 0.0556\n",
      "Epoch 17 | 25.25s | Train Loss: 0.0393, Val Loss: 0.0482\n",
      "Epoch 18 | 25.52s | Train Loss: 0.0365, Val Loss: 0.0477\n",
      "Epoch 19 | 25.37s | Train Loss: 0.0352, Val Loss: 0.0567\n",
      "Epoch 20 | 25.25s | Train Loss: 0.0321, Val Loss: 0.0470\n",
      "Epoch 21 | 25.54s | Train Loss: 0.0303, Val Loss: 0.0462\n",
      "Epoch 22 | 25.42s | Train Loss: 0.0294, Val Loss: 0.0500\n",
      "Epoch 23 | 25.49s | Train Loss: 0.0281, Val Loss: 0.0427\n",
      "Epoch 24 | 25.92s | Train Loss: 0.0264, Val Loss: 0.0435\n",
      "Epoch 25 | 26.20s | Train Loss: 0.0252, Val Loss: 0.0427\n",
      "Epoch 26 | 25.67s | Train Loss: 0.0236, Val Loss: 0.0450\n",
      "Epoch 27 | 25.39s | Train Loss: 0.0223, Val Loss: 0.0433\n",
      "Early stopping at epoch 27 after 2 epochs without val improvement.\n",
      "Total training time: 689.55s\n",
      "Saved model at models/ckpts/lenet_torch_0.1_0_0_False_kaiming_adamw_relu_0.0003_12.pth.\n"
     ]
    }
   ],
   "source": [
    "! python train.py --framework={_framework} \\\n",
    "    --val_split={_val_split} \\\n",
    "    --rotation_degrees={_rotation_degrees} \\\n",
    "    --crop_padding={_crop_padding} \\\n",
    "    {\"--duplicate_with_augment\" if _duplicate_with_augment else \"\"} \\\n",
    "    --init={_init} \\\n",
    "    --optimizer={_optimizer} \\\n",
    "    --activation={_activation} \\\n",
    "    --lr={_lr} \\\n",
    "    --seed={_seed} "
   ]
  },
  {
   "cell_type": "markdown",
   "id": "73134bb5",
   "metadata": {},
   "source": [
    "### Evaluation"
   ]
  },
  {
   "cell_type": "code",
   "execution_count": 47,
   "id": "7b1e75e7",
   "metadata": {},
   "outputs": [
    {
     "name": "stdout",
     "output_type": "stream",
     "text": [
      "Loading model at: models/ckpts/lenet_torch_0.1_0_0_False_kaiming_adamw_relu_0.0003_12.pth\n"
     ]
    },
    {
     "data": {
      "text/plain": [
       "<All keys matched successfully>"
      ]
     },
     "execution_count": 47,
     "metadata": {},
     "output_type": "execute_result"
    }
   ],
   "source": [
    "from models.torch_lenet import TorchLeNet\n",
    "\n",
    "print(f'Loading model at: {model_path}')\n",
    "\n",
    "def get_model_params(model_path: str) -> Dict[str, Any]:\n",
    "    model_params = model_path.replace(\".pth\", \"\").split(\"_\")\n",
    "    assert len(model_params) == 11\n",
    "    \n",
    "    params_dict = {}\n",
    "    params_dict[\"framework\"] = model_params[1]\n",
    "    params_dict[\"val_split\"] = float(model_params[2])\n",
    "    params_dict[\"rotation_degrees\"] = int(model_params[3])\n",
    "    params_dict[\"crop_padding\"] = int(model_params[4])\n",
    "    params_dict[\"duplicate_with_augment\"] = model_params[5]\n",
    "    params_dict[\"init\"] = model_params[6]\n",
    "    params_dict[\"optimizer\"] = model_params[7]\n",
    "    params_dict[\"activation\"] = model_params[8]\n",
    "    params_dict[\"lr\"] = float(model_params[9])\n",
    "    params_dict[\"seed\"] = int(model_params[10])\n",
    "\n",
    "    return params_dict\n",
    "    \n",
    "# Load model\n",
    "model_params = get_model_params(model_path)\n",
    "\n",
    "device = torch.device(\"cuda\" if torch.cuda.is_available() else \"cpu\")\n",
    "lenet5 = TorchLeNet(act_fn=model_params[\"activation\"], init=model_params[\"init\"]).to(device)\n",
    "lenet5.load_state_dict(torch.load(model_path))"
   ]
  },
  {
   "cell_type": "code",
   "execution_count": 48,
   "id": "5c2292b9",
   "metadata": {},
   "outputs": [
    {
     "name": "stdout",
     "output_type": "stream",
     "text": [
      "Train: Dataset MNIST\n",
      "    Number of datapoints: 54000\n",
      "\n",
      "Val: Dataset MNIST\n",
      "    Number of datapoints: 6000\n",
      "Test: Dataset MNIST\n",
      "    Number of datapoints: 10000\n",
      "    Root location: data\n",
      "    Split: Test\n",
      "    StandardTransform\n",
      "Transform: Compose(\n",
      "               ToTensor()\n",
      "               Normalize(mean=[tensor(0.1307)], std=[tensor(0.3081)])\n",
      "           )\n",
      "\n",
      "Test Set Accuracy: 95.02%\n"
     ]
    }
   ],
   "source": [
    "_train_dataset, test_dataset, _val_dataset = data.get_MNIST()\n",
    "\n",
    "test_x = test_dataset.data.unsqueeze(1).float()\n",
    "test_y = test_dataset.targets\n",
    "\n",
    "lenet5.eval()\n",
    "with torch.no_grad():\n",
    "    test_x, test_y = test_x.to(device), test_y.to(device)\n",
    "    logits = lenet5(test_x)\n",
    "    test_preds = logits.argmax(axis=1)\n",
    "    accuracy = (test_preds == test_y).sum() / len(test_y)\n",
    "\n",
    "print(f'Test Set Accuracy: {100 * accuracy:.2f}%')"
   ]
  },
  {
   "cell_type": "markdown",
   "id": "dc28fd3f-0702-483c-9d06-d5e8c1e562a9",
   "metadata": {},
   "source": [
    "### Ablations"
   ]
  },
  {
   "cell_type": "code",
   "execution_count": null,
   "id": "4705234d-d948-4257-9fca-1222835fe6ad",
   "metadata": {},
   "outputs": [],
   "source": []
  },
  {
   "cell_type": "markdown",
   "id": "97370b86",
   "metadata": {},
   "source": [
    "### Interpretability"
   ]
  },
  {
   "cell_type": "markdown",
   "id": "96d9f7d2",
   "metadata": {},
   "source": []
  },
  {
   "cell_type": "markdown",
   "id": "065ea6d3-888b-4ef4-916f-2bc81fb982b8",
   "metadata": {},
   "source": [
    "#### Saliency Maps"
   ]
  },
  {
   "cell_type": "code",
   "execution_count": null,
   "id": "9475f336-49b1-4aa7-a92c-1e474aaf478e",
   "metadata": {},
   "outputs": [],
   "source": []
  },
  {
   "cell_type": "markdown",
   "id": "dbca96fa-468e-4a68-bcc2-bbc0a5af3907",
   "metadata": {},
   "source": [
    "#### GradCAM"
   ]
  },
  {
   "cell_type": "code",
   "execution_count": null,
   "id": "92f07a39-9d85-42b0-8432-a588c13afd31",
   "metadata": {},
   "outputs": [],
   "source": []
  },
  {
   "cell_type": "markdown",
   "id": "981bfca4-f69e-4a92-b470-66287da1e997",
   "metadata": {},
   "source": [
    "#### Sparse Autoencoders (SAEs)"
   ]
  },
  {
   "cell_type": "code",
   "execution_count": null,
   "id": "d76f6d2c-2c66-488f-931b-01793f82fe08",
   "metadata": {},
   "outputs": [],
   "source": []
  }
 ],
 "metadata": {
  "kernelspec": {
   "display_name": "Python 3 (ipykernel)",
   "language": "python",
   "name": "python3"
  },
  "language_info": {
   "codemirror_mode": {
    "name": "ipython",
    "version": 3
   },
   "file_extension": ".py",
   "mimetype": "text/x-python",
   "name": "python",
   "nbconvert_exporter": "python",
   "pygments_lexer": "ipython3",
   "version": "3.11.8"
  }
 },
 "nbformat": 4,
 "nbformat_minor": 5
}
