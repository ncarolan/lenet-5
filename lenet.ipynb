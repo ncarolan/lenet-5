{
 "cells": [
  {
   "cell_type": "markdown",
   "metadata": {},
   "source": [
    "# LeNet\n",
    "\n",
    "This notebook trains the LeNet-5 neural network on the MNIST database.\n",
    "\n",
    "Implementations in both PyTorch and JAX are provided under the respective subsections."
   ]
  },
  {
   "cell_type": "markdown",
   "id": "85812574",
   "metadata": {},
   "source": [
    "#### Imports"
   ]
  },
  {
   "cell_type": "code",
   "execution_count": 38,
   "id": "1e3e87c3",
   "metadata": {},
   "outputs": [],
   "source": [
    "import numpy as np\n",
    "import random\n",
    "\n",
    "SEED = 12\n",
    "\n",
    "random.seed(SEED)\n",
    "np.random.seed(SEED)"
   ]
  },
  {
   "cell_type": "markdown",
   "id": "c0960a89",
   "metadata": {},
   "source": [
    "### PyTorch"
   ]
  },
  {
   "cell_type": "code",
   "execution_count": 27,
   "metadata": {},
   "outputs": [],
   "source": [
    "import torch\n",
    "import torch.nn as nn\n",
    "import torchvision\n",
    "from torch.utils.data import DataLoader\n",
    "from torchvision import datasets, transforms\n",
    "from models.torch_lenet import TorchLeNet\n",
    "\n",
    "torch.manual_seed(SEED)\n",
    "torch.cuda.manual_seed(SEED)\n",
    "torch.backends.cudnn.deterministic = True"
   ]
  },
  {
   "cell_type": "markdown",
   "id": "f11b4c97",
   "metadata": {},
   "source": [
    "#### Data"
   ]
  },
  {
   "cell_type": "code",
   "execution_count": 42,
   "id": "dd82b39f",
   "metadata": {},
   "outputs": [],
   "source": [
    "import data  # your module\n",
    "import importlib\n",
    "\n",
    "importlib.reload(data)\n",
    "\n",
    "BATCH_SIZE = 64\n",
    "\n",
    "train_dataset, test_dataset, val_dataset = data.get_MNIST()\n",
    "\n",
    "train_loader = DataLoader(train_dataset, batch_size=64, shuffle=True)\n",
    "test_loader = DataLoader(test_dataset, batch_size=1000, shuffle=False)\n",
    "val_loader = DataLoader(val_dataset, batch_size=1000, shuffle=False)"
   ]
  },
  {
   "cell_type": "markdown",
   "id": "ccabc4ca",
   "metadata": {},
   "source": [
    "#### Model"
   ]
  },
  {
   "cell_type": "code",
   "execution_count": 43,
   "id": "ee89c4da",
   "metadata": {},
   "outputs": [
    {
     "name": "stdout",
     "output_type": "stream",
     "text": [
      "Parameters:  61706\n"
     ]
    },
    {
     "data": {
      "text/plain": [
       "TorchLeNet(\n",
       "  (conv1): Conv2d(1, 6, kernel_size=(5, 5), stride=(1, 1), padding=(2, 2))\n",
       "  (pool1): MaxPool2d(kernel_size=2, stride=2, padding=0, dilation=1, ceil_mode=False)\n",
       "  (conv2): Conv2d(6, 16, kernel_size=(5, 5), stride=(1, 1))\n",
       "  (pool2): MaxPool2d(kernel_size=2, stride=2, padding=0, dilation=1, ceil_mode=False)\n",
       "  (fc1): Linear(in_features=400, out_features=120, bias=True)\n",
       "  (fc2): Linear(in_features=120, out_features=84, bias=True)\n",
       "  (fc3): Linear(in_features=84, out_features=10, bias=True)\n",
       ")"
      ]
     },
     "execution_count": 43,
     "metadata": {},
     "output_type": "execute_result"
    }
   ],
   "source": [
    "device = torch.device(\"cuda\" if torch.cuda.is_available() else \"cpu\")\n",
    "\n",
    "lenet5 = TorchLeNet().to(device) # TODO: Add params for activation, reproduce original init\n",
    "lenet5.param_count()\n",
    "lenet5.eval()"
   ]
  },
  {
   "cell_type": "markdown",
   "id": "e6a97274",
   "metadata": {},
   "source": [
    "#### Training"
   ]
  },
  {
   "cell_type": "code",
   "execution_count": 44,
   "metadata": {},
   "outputs": [
    {
     "name": "stdout",
     "output_type": "stream",
     "text": [
      "Epoch 0 | Train Loss: 839.9629516601562, Val Loss: 1.9005024433135986\n",
      "Epoch 1 | Train Loss: 192.3130340576172, Val Loss: 1.0523744821548462\n",
      "Epoch 2 | Train Loss: 117.95606231689453, Val Loss: 0.9231815934181213\n",
      "Epoch 3 | Train Loss: 87.24773406982422, Val Loss: 0.5728389024734497\n",
      "Epoch 4 | Train Loss: 72.04277801513672, Val Loss: 0.47332829236984253\n",
      "Epoch 5 | Train Loss: 61.30828857421875, Val Loss: 0.46507734060287476\n"
     ]
    }
   ],
   "source": [
    "# Hyperparams -> TODO: try to reproduce the original paper in this section\n",
    "LEARNING_RATE = 1e-3\n",
    "EPOCHS = 8\n",
    "\n",
    "criterion = torch.nn.CrossEntropyLoss()\n",
    "optimizer = torch.optim.AdamW(lenet5.parameters(), lr=LEARNING_RATE)\n",
    "\n",
    "#TODO: tqdm\n",
    "for epoch in range(EPOCHS):\n",
    "    lenet5.train()\n",
    "    epoch_loss = 0\n",
    "    val_loss = 0\n",
    "\n",
    "    for x,y in train_loader:\n",
    "        x,y = x.to(device), y.to(device)\n",
    "\n",
    "        optimizer.zero_grad()\n",
    "        y_pred = lenet5(x)\n",
    "        loss = criterion(y_pred, y)\n",
    "        loss.backward()\n",
    "        optimizer.step()\n",
    "\n",
    "        epoch_loss += loss\n",
    "\n",
    "    # Validation Loss\n",
    "    lenet5.eval()\n",
    "    with torch.no_grad():\n",
    "        for x,y in val_loader:\n",
    "            x,y = x.to(device), y.to(device)\n",
    "            y_pred = lenet5(x)\n",
    "            loss = criterion(y_pred, y)\n",
    "            val_loss += loss\n",
    "\n",
    "    print(f'Epoch {epoch} | Train Loss: {epoch_loss / len(train_loader)}, Val Loss: {val_loss / len(val_loader)}')"
   ]
  },
  {
   "cell_type": "markdown",
   "id": "73134bb5",
   "metadata": {},
   "source": [
    "#### Evaluation"
   ]
  },
  {
   "cell_type": "code",
   "execution_count": null,
   "id": "5c2292b9",
   "metadata": {},
   "outputs": [],
   "source": []
  },
  {
   "cell_type": "markdown",
   "id": "97370b86",
   "metadata": {},
   "source": [
    "### JAX"
   ]
  },
  {
   "cell_type": "markdown",
   "id": "96d9f7d2",
   "metadata": {},
   "source": []
  }
 ],
 "metadata": {
  "kernelspec": {
   "display_name": "base",
   "language": "python",
   "name": "python3"
  },
  "language_info": {
   "codemirror_mode": {
    "name": "ipython",
    "version": 3
   },
   "file_extension": ".py",
   "mimetype": "text/x-python",
   "name": "python",
   "nbconvert_exporter": "python",
   "pygments_lexer": "ipython3",
   "version": "3.11.8"
  }
 },
 "nbformat": 4,
 "nbformat_minor": 5
}
